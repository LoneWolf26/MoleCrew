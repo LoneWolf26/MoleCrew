{
 "cells": [
  {
   "cell_type": "markdown",
   "metadata": {},
   "source": [
    "## <span style=\"font-family: Quattrocento Sans; font-size:1.5em;\"> Introduction to derivatives in python </span>\n",
    "---\n",
    "<span style=\"font-family: Quattrocento Sans; font-size:1.5em;\"> In this script we will learn how to take derivatives and use them for applications in thermodynamics. This excercise will be carried out using the python sympy liblary. It is symbolic differentiation not numerical.</span>"
   ]
  },
  {
   "cell_type": "code",
   "execution_count": 1,
   "metadata": {},
   "outputs": [],
   "source": [
    "# Importing the liblary\n",
    "import sympy as sym"
   ]
  },
  {
   "cell_type": "markdown",
   "metadata": {},
   "source": [
    "<span style=\"font-family: Quattrocento Sans; font-size:1.5em;\"> In the section below we take derivatives of single variables. </span>"
   ]
  },
  {
   "cell_type": "code",
   "execution_count": 2,
   "metadata": {},
   "outputs": [
    {
     "data": {
      "text/latex": [
       "$\\displaystyle 2 x$"
      ],
      "text/plain": [
       "2*x"
      ]
     },
     "execution_count": 2,
     "metadata": {},
     "output_type": "execute_result"
    }
   ],
   "source": [
    "# Define the variable\n",
    "x = sym.Symbol('x')\n",
    "# Define the fucntion\n",
    "y = x**2\n",
    "# Differentiate\n",
    "sym.diff(y,x)"
   ]
  },
  {
   "cell_type": "code",
   "execution_count": 3,
   "metadata": {},
   "outputs": [
    {
     "data": {
      "text/latex": [
       "$\\displaystyle 5 e^{5 x}$"
      ],
      "text/plain": [
       "5*exp(5*x)"
      ]
     },
     "execution_count": 3,
     "metadata": {},
     "output_type": "execute_result"
    }
   ],
   "source": [
    "# Example 2\n",
    "y = sym.exp(5*x)\n",
    "sym.diff(y,x)"
   ]
  },
  {
   "cell_type": "code",
   "execution_count": 4,
   "metadata": {},
   "outputs": [
    {
     "data": {
      "text/latex": [
       "$\\displaystyle \\frac{2 x + 5}{x^{2} + 5 x}$"
      ],
      "text/plain": [
       "(2*x + 5)/(x**2 + 5*x)"
      ]
     },
     "execution_count": 4,
     "metadata": {},
     "output_type": "execute_result"
    }
   ],
   "source": [
    "# Example 3\n",
    "y = sym.ln(5*x+x**2)\n",
    "sym.diff(y,x)"
   ]
  },
  {
   "cell_type": "code",
   "execution_count": 5,
   "metadata": {},
   "outputs": [
    {
     "data": {
      "text/latex": [
       "$\\displaystyle - 4 x \\left(2 x^{2} \\cos{\\left(x^{2} \\right)} + 3 \\sin{\\left(x^{2} \\right)}\\right)$"
      ],
      "text/plain": [
       "-4*x*(2*x**2*cos(x**2) + 3*sin(x**2))"
      ]
     },
     "execution_count": 5,
     "metadata": {},
     "output_type": "execute_result"
    }
   ],
   "source": [
    "# Example 4 (Higher order derivatives)\n",
    "y = sym.sin(x**2)\n",
    "sym.diff(y,x,3)"
   ]
  },
  {
   "cell_type": "markdown",
   "metadata": {},
   "source": [
    "---\n",
    "<span style=\"font-family: Quattrocento Sans; font-size:1.5em;\">  Now you can try to do differentiation of different fucntions yourself! Let's now move to partial derivatives. We can start with the function from the lecture. $f(x,y)=e^{x^2 + 2xy}$\n",
    "</span>"
   ]
  },
  {
   "cell_type": "code",
   "execution_count": 6,
   "metadata": {},
   "outputs": [
    {
     "data": {
      "text/latex": [
       "$\\displaystyle \\left(2 x + 2 y\\right) e^{x^{2} + 2 x y}$"
      ],
      "text/plain": [
       "(2*x + 2*y)*exp(x**2 + 2*x*y)"
      ]
     },
     "execution_count": 6,
     "metadata": {},
     "output_type": "execute_result"
    }
   ],
   "source": [
    "# Define the variables\n",
    "x, y = sym.symbols('x y', real=True)\n",
    "f  = sym.exp((x**2)+(2*x*y))\n",
    "fx = sym.diff(f, x)\n",
    "fx"
   ]
  },
  {
   "cell_type": "code",
   "execution_count": 7,
   "metadata": {},
   "outputs": [
    {
     "data": {
      "text/latex": [
       "$\\displaystyle 2 x e^{x^{2} + 2 x y}$"
      ],
      "text/plain": [
       "2*x*exp(x**2 + 2*x*y)"
      ]
     },
     "execution_count": 7,
     "metadata": {},
     "output_type": "execute_result"
    }
   ],
   "source": [
    "fy = sym.diff(f, y)\n",
    "fy"
   ]
  },
  {
   "cell_type": "code",
   "execution_count": 8,
   "metadata": {},
   "outputs": [
    {
     "data": {
      "text/latex": [
       "$\\displaystyle 2 x \\left(2 x + 2 y\\right) e^{x^{2} + 2 x y} + 2 e^{x^{2} + 2 x y}$"
      ],
      "text/plain": [
       "2*x*(2*x + 2*y)*exp(x**2 + 2*x*y) + 2*exp(x**2 + 2*x*y)"
      ]
     },
     "execution_count": 8,
     "metadata": {},
     "output_type": "execute_result"
    }
   ],
   "source": [
    "fxy = sym.diff(fx, y)\n",
    "fxy"
   ]
  },
  {
   "cell_type": "code",
   "execution_count": 9,
   "metadata": {},
   "outputs": [
    {
     "data": {
      "text/latex": [
       "$\\displaystyle 2 x \\left(2 x + 2 y\\right) e^{x^{2} + 2 x y} + 2 e^{x^{2} + 2 x y}$"
      ],
      "text/plain": [
       "2*x*(2*x + 2*y)*exp(x**2 + 2*x*y) + 2*exp(x**2 + 2*x*y)"
      ]
     },
     "execution_count": 9,
     "metadata": {},
     "output_type": "execute_result"
    }
   ],
   "source": [
    "fyx = sym.diff(fy, x)\n",
    "fyx"
   ]
  },
  {
   "cell_type": "markdown",
   "metadata": {},
   "source": [
    "---\n",
    "<span style=\"font-family: Quattrocento Sans; font-size:1.5em;\"> We can see that the order of operation does not matter! Next we move to applying this to the Van der waals equation. $P = \\frac{nRT}{V-nb}-\\frac{-an^2}{V^2}$\n",
    "</span>"
   ]
  },
  {
   "cell_type": "code",
   "execution_count": 10,
   "metadata": {},
   "outputs": [
    {
     "data": {
      "text/latex": [
       "$\\displaystyle \\frac{R T n}{V - b n} - \\frac{a n^{2}}{V^{2}}$"
      ],
      "text/plain": [
       "R*T*n/(V - b*n) - a*n**2/V**2"
      ]
     },
     "execution_count": 10,
     "metadata": {},
     "output_type": "execute_result"
    }
   ],
   "source": [
    "P, V, T, n, a, b, R = sym.symbols('P V T n a b R', real=True)\n",
    "# Van der waals equation\n",
    "P = (n*R*T)/(V-(n*b)) - ((a*n**2)/(V**2))\n",
    "P"
   ]
  },
  {
   "cell_type": "code",
   "execution_count": 11,
   "metadata": {},
   "outputs": [
    {
     "data": {
      "text/latex": [
       "$\\displaystyle \\frac{R n}{V - b n}$"
      ],
      "text/plain": [
       "R*n/(V - b*n)"
      ]
     },
     "execution_count": 11,
     "metadata": {},
     "output_type": "execute_result"
    }
   ],
   "source": [
    "dPdT_V = sym.diff(P, T)\n",
    "dPdT_V"
   ]
  },
  {
   "cell_type": "code",
   "execution_count": 12,
   "metadata": {},
   "outputs": [
    {
     "data": {
      "text/latex": [
       "$\\displaystyle - \\frac{R T n}{\\left(V - b n\\right)^{2}} + \\frac{2 a n^{2}}{V^{3}}$"
      ],
      "text/plain": [
       "-R*T*n/(V - b*n)**2 + 2*a*n**2/V**3"
      ]
     },
     "execution_count": 12,
     "metadata": {},
     "output_type": "execute_result"
    }
   ],
   "source": [
    "dPdV_T = sym.diff(P, V)\n",
    "dPdV_T"
   ]
  },
  {
   "cell_type": "code",
   "execution_count": 13,
   "metadata": {},
   "outputs": [
    {
     "data": {
      "text/latex": [
       "$\\displaystyle \\frac{1}{- \\frac{R T n}{\\left(V - b n\\right)^{2}} + \\frac{2 a n^{2}}{V^{3}}}$"
      ],
      "text/plain": [
       "1/(-R*T*n/(V - b*n)**2 + 2*a*n**2/V**3)"
      ]
     },
     "execution_count": 13,
     "metadata": {},
     "output_type": "execute_result"
    }
   ],
   "source": [
    "dVdP_T = 1/dPdV_T\n",
    "dVdP_T"
   ]
  },
  {
   "cell_type": "code",
   "execution_count": 14,
   "metadata": {},
   "outputs": [
    {
     "data": {
      "text/latex": [
       "$\\displaystyle \\frac{R n}{\\left(V - b n\\right) \\left(- \\frac{R T n}{\\left(V - b n\\right)^{2}} + \\frac{2 a n^{2}}{V^{3}}\\right)}$"
      ],
      "text/plain": [
       "R*n/((V - b*n)*(-R*T*n/(V - b*n)**2 + 2*a*n**2/V**3))"
      ]
     },
     "execution_count": 14,
     "metadata": {},
     "output_type": "execute_result"
    }
   ],
   "source": [
    "dVdT_P = dPdT_V/dPdV_T\n",
    "dVdT_P"
   ]
  }
 ],
 "metadata": {
  "kernelspec": {
   "display_name": "Python 3",
   "language": "python",
   "name": "python3"
  },
  "language_info": {
   "codemirror_mode": {
    "name": "ipython",
    "version": 3
   },
   "file_extension": ".py",
   "mimetype": "text/x-python",
   "name": "python",
   "nbconvert_exporter": "python",
   "pygments_lexer": "ipython3",
   "version": "3.7.4"
  }
 },
 "nbformat": 4,
 "nbformat_minor": 2
}
